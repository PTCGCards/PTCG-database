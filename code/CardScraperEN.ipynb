{
 "cells": [
  {
   "cell_type": "markdown",
   "metadata": {},
   "source": [
    "# Record of the number of cards on EN web\n",
    "\n",
    "https://pkmncards.com/\n",
    "\n",
    "2022, 12, 12"
   ]
  },
  {
   "cell_type": "code",
   "execution_count": 4,
   "metadata": {},
   "outputs": [],
   "source": [
    "import bs4\n",
    "import sys\n",
    "import requests\n",
    "import pandas as pd"
   ]
  },
  {
   "cell_type": "code",
   "execution_count": 5,
   "metadata": {},
   "outputs": [],
   "source": [
    "def getContent(cardId):\n",
    "    # anti-scraping\n",
    "    user_agent = \"Mozilla/5.0 (Windows NT 10.0; WOW64; rv:68.0) Gecko/20100101 Firefox/68.0\"\n",
    "    url = f'https://pkmncards.com/?s={cardId.replace(\" \", \"+\")}'\n",
    "    response = requests.get(url, headers={'User-Agent': user_agent})\n",
    "    if response.status_code == 200:\n",
    "        # print(response.content.decode('utf-8'))\n",
    "        return response.content.decode('utf-8')\n",
    "    else:\n",
    "        print(f\"Fail to get the url [{response.status_code}]\")\n",
    "        return [cardId, response.status_code]"
   ]
  },
  {
   "cell_type": "markdown",
   "metadata": {},
   "source": [
    "## Pokemon cards"
   ]
  },
  {
   "cell_type": "code",
   "execution_count": 10,
   "metadata": {},
   "outputs": [],
   "source": [
    "def readPokemon(content):\n",
    "    # start reading content\n",
    "    soup = bs4.BeautifulSoup(content, 'html.parser')\n",
    "    card = soup.find('div', class_='tab text') \n",
    "    \n",
    "    name = card.find('span', class_='name').get_text()\n",
    "    ruleList = ['V', 'VSTAR', 'Radiant', 'ex']\n",
    "    nameSplit = name.split()\n",
    "    for ruleCategory in ruleList:\n",
    "        if ruleCategory in nameSplit:\n",
    "            rule = ruleCategory\n",
    "            break\n",
    "    hp = int(card.find('span', class_='hp').get_text().split()[0])\n",
    "    color = card.find('span', class_='color').abbr['title']\n",
    "    stage = card.find('span', class_='stage').get_text()\n",
    "    evolveText = card.find('span', class_='evolves')\n",
    "    evolveInto, evolveFrom = \"\", \"\"\n",
    "    if evolveText:\n",
    "        if 'Evolves into' in evolveText.get_text():\n",
    "            evolveInto = evolveText.a.get_text()\n",
    "        if 'Evolves from' in evolveText.get_text():\n",
    "            evolveFrom = evolveText.a.get_text()\n",
    "    weakness = card.find('span', class_='weak').abbr['title']\n",
    "    resistance = card.find('span', class_='resist').abbr['title']\n",
    "    retreat = int(card.find('span', class_='retreat').abbr.get_text())\n",
    "    illus = card.find('span', title='Illustrator').a.get_text()\n",
    "    setName = card.find('span', title='Set').get_text()\n",
    "    setNumber = int(card.find('span', class_='number').get_text())\n",
    "    rarity = card.find('span', class_='rarity').get_text()\n",
    "    regulationMark = card.find('span', class_='Regulation Mark').a.get_text()\n",
    "\n",
    "    text = card.find('div', class_='text')\n",
    "    attack1, attack2 = False, False\n",
    "    \n",
    "    attack1cost = []\n",
    "    attack1name = \"\"\n",
    "    attack1damage = 0\n",
    "    attack1effect = \"\"\n",
    "    \n",
    "    attack2cost = []\n",
    "    attack2name = \"\"\n",
    "    attack2damage = 0\n",
    "    attack2effect = \"\"\n",
    "    \n",
    "    abilityName = \"\"\n",
    "    abilityEffect = \"\"\n",
    "    vstarPower = \"\"\n",
    "    \n",
    "    for p in text.find_all('p'):\n",
    "        if p.find('a'):\n",
    "            # has ability\n",
    "            abilityName = p.find('a').next_sibling.split(\"⇢\")[-1].strip()\n",
    "            abilityEffect = p.get_text().split('\\n')[-1].strip()\n",
    "            if p.get_text().split('\\n')[0] == 'VSTAR Power':\n",
    "                vstarPower = abilityName\n",
    "        elif not attack1:\n",
    "            for energy in p.find_all('abbr'):\n",
    "                attack1cost.append(energy['title'])\n",
    "            attack1name = p.find_all('span')[-1].get_text()\n",
    "            if p.find('br'):\n",
    "                potentialDamage = p.find('br').previous_sibling\n",
    "                if '0' in potentialDamage:\n",
    "                    attack1damage = int(potentialDamage.split()[-1])\n",
    "                    attack1effect = p.find('br').next_sibling.strip()\n",
    "            else:\n",
    "                attack1damage = int(p.get_text().split()[-1])\n",
    "            attack1 = True\n",
    "        elif not attack2:\n",
    "            for energy in p.find_all('abbr'):\n",
    "                attack2cost.append(energy['title'])\n",
    "            attack2name = p.find_all('span')[-1].get_text()\n",
    "            if p.find('br'):\n",
    "                potentialDamage = p.find('br').previous_sibling\n",
    "                if '0' in potentialDamage:\n",
    "                    attack2damage = int(potentialDamage.split()[-1])\n",
    "                    attack2effect = p.find('br').next_sibling.strip()\n",
    "            else:\n",
    "                attack2damage = int(p.get_text().split()[-1])\n",
    "            attack2 = True\n",
    "        else:\n",
    "            raise Exception(\"No more slots for attacks!\")\n",
    "\n",
    "    "
   ]
  },
  {
   "cell_type": "code",
   "execution_count": 17,
   "metadata": {},
   "outputs": [],
   "source": [
    "cardId = 'Dunsparce FST 207'\n",
    "\n",
    "content = getContent(cardId)\n",
    "readPokemon(content)"
   ]
  },
  {
   "cell_type": "markdown",
   "metadata": {},
   "source": [
    "## Trainer cards"
   ]
  },
  {
   "cell_type": "code",
   "execution_count": 13,
   "metadata": {},
   "outputs": [],
   "source": [
    "cardId = 'Ultra Ball BRS 150'\n",
    "\n",
    "content = getContent(cardId)"
   ]
  },
  {
   "cell_type": "code",
   "execution_count": 23,
   "metadata": {},
   "outputs": [],
   "source": [
    "def readTrainer(content):\n",
    "    # start reading content\n",
    "    soup = bs4.BeautifulSoup(content, 'html.parser')\n",
    "    card = soup.find('div', class_='tab text') \n",
    "    name = card.find('span', class_='name').get_text()\n",
    "    category = card.find('span', class_='sub-type').get_text()\n",
    "    effect = card.find('div', class_='text').get_text().strip()\n",
    "    illus = card.find('span', title='Illustrator').a.get_text()\n",
    "    setName = card.find('span', title='Set').get_text()\n",
    "    setNumber = int(card.find('span', class_='number').get_text())\n",
    "    rarity = card.find('span', class_='rarity').get_text()\n",
    "    regulationMark = card.find('span', class_='Regulation Mark').a.get_text()"
   ]
  },
  {
   "cell_type": "code",
   "execution_count": 24,
   "metadata": {},
   "outputs": [],
   "source": [
    "cardId = 'Ultra Ball BRS 150'\n",
    "\n",
    "content = getContent(cardId)\n",
    "readTrainer(content)"
   ]
  },
  {
   "cell_type": "markdown",
   "metadata": {},
   "source": [
    "## Energy cards"
   ]
  },
  {
   "cell_type": "code",
   "execution_count": 18,
   "metadata": {},
   "outputs": [],
   "source": [
    "cardId = 'Hiding Darkness Energy DAA 175'\n",
    "content = getContent(cardId)"
   ]
  },
  {
   "cell_type": "code",
   "execution_count": 19,
   "metadata": {},
   "outputs": [],
   "source": [
    "soup = bs4.BeautifulSoup(content, 'html.parser')\n",
    "card = soup.find('div', class_='tab text') "
   ]
  },
  {
   "cell_type": "code",
   "execution_count": 20,
   "metadata": {},
   "outputs": [
    {
     "data": {
      "text/plain": [
       "('Hiding {D} Energy',\n",
       " 'Special Energy',\n",
       " 'As long as this card is attached to a Pokémon, it provides {D} Energy.\\nThe {D} Pokémon this card is attached to has no Retreat Cost.')"
      ]
     },
     "execution_count": 20,
     "metadata": {},
     "output_type": "execute_result"
    }
   ],
   "source": [
    "name = card.find('span', class_='name').get_text()\n",
    "category = card.find('span', class_='sub-type').get_text()\n",
    "effect = card.find('div', class_='text').get_text().strip()\n",
    "name, category, effect"
   ]
  },
  {
   "cell_type": "code",
   "execution_count": 14,
   "metadata": {},
   "outputs": [
    {
     "data": {
      "text/plain": [
       "('n/a', 'Darkness Ablaze', 176, 'Uncommon', 'D')"
      ]
     },
     "execution_count": 14,
     "metadata": {},
     "output_type": "execute_result"
    }
   ],
   "source": [
    "illus = card.find('span', title='Illustrator').a.get_text()\n",
    "setName = card.find('span', title='Set').get_text()\n",
    "setNumber = int(card.find('span', class_='number').get_text())\n",
    "rarity = card.find('span', class_='rarity').get_text()\n",
    "regulationMark = card.find('span', class_='Regulation Mark').a.get_text()\n",
    "illus, setName, setNumber, rarity, regulationMark"
   ]
  },
  {
   "cell_type": "code",
   "execution_count": null,
   "metadata": {},
   "outputs": [],
   "source": []
  },
  {
   "cell_type": "markdown",
   "metadata": {},
   "source": [
    "## Experiment\n",
    "\n",
    "- Board (1 Pokemon): Lugia V\n",
    "- Hand (3 cards): Lugia V, Ultra ball, Evolution Incense\n",
    "- Deck (4 cards): Archeops, Lugia VSTAR, Double Turbo Energy, Double Turbo Energ"
   ]
  },
  {
   "cell_type": "code",
   "execution_count": 2,
   "metadata": {},
   "outputs": [],
   "source": [
    "deckList = \"\"\"Pokémon (4)\n",
    "2 Lugia V SIT 138\n",
    "1 Lugia VSTAR SIT 139\n",
    "1 Archeops SIT 147\n",
    "\n",
    "Trainer (2)\n",
    "1 Ultra Ball BRS 150\n",
    "1 Evolution Incense SSH 163\n",
    "\n",
    "Energy (2)\n",
    "2 Double Turbo Energy BRS 151\n",
    "\"\"\""
   ]
  },
  {
   "cell_type": "code",
   "execution_count": 17,
   "metadata": {},
   "outputs": [],
   "source": [
    "deckList = deckList.replace(\"Powerful Colorless Energy\", \"Powerful Energy\")"
   ]
  },
  {
   "cell_type": "code",
   "execution_count": 1,
   "metadata": {},
   "outputs": [],
   "source": [
    "import EnumerateBoard as eb"
   ]
  },
  {
   "cell_type": "code",
   "execution_count": 2,
   "metadata": {},
   "outputs": [
    {
     "name": "stdout",
     "output_type": "stream",
     "text": [
      "Pokemon cards loaded. 4 cards in deck.\n",
      "Trainer cards loaded. 6 cards in deck.\n",
      "Energy cards loaded. 8 cards in deck.\n"
     ]
    }
   ],
   "source": [
    "b = eb.Board('sample-deck-8.txt')"
   ]
  },
  {
   "cell_type": "code",
   "execution_count": 3,
   "metadata": {},
   "outputs": [
    {
     "name": "stdout",
     "output_type": "stream",
     "text": [
      "Active:\n",
      "\n",
      "Bench:\n",
      "\n",
      "Hand:\n",
      "\n",
      "Prize cards:\n",
      "\n",
      "Deck:\n",
      "Lugia V 1\n",
      "Lugia V 2\n",
      "Lugia VSTAR 3\n",
      "Archeops 4\n",
      "Ultra Ball 5\n",
      "Evolution Incense 6\n",
      "Double Turbo Energy 7\n",
      "Double Turbo Energy 8\n",
      "\n",
      "Discard pile:\n",
      "\n",
      "Lost zone:\n"
     ]
    }
   ],
   "source": [
    "b.snapshot()"
   ]
  },
  {
   "cell_type": "code",
   "execution_count": 4,
   "metadata": {},
   "outputs": [],
   "source": [
    "b.shuffleDeck()"
   ]
  },
  {
   "cell_type": "code",
   "execution_count": 5,
   "metadata": {},
   "outputs": [
    {
     "name": "stdout",
     "output_type": "stream",
     "text": [
      "Active:\n",
      "\n",
      "Bench:\n",
      "\n",
      "Hand:\n",
      "\n",
      "Prize cards:\n",
      "\n",
      "Deck:\n",
      "Archeops 4\n",
      "Evolution Incense 6\n",
      "Lugia V 2\n",
      "Double Turbo Energy 8\n",
      "Double Turbo Energy 7\n",
      "Ultra Ball 5\n",
      "Lugia VSTAR 3\n",
      "Lugia V 1\n",
      "\n",
      "Discard pile:\n",
      "\n",
      "Lost zone:\n"
     ]
    }
   ],
   "source": [
    "b.snapshot()"
   ]
  },
  {
   "cell_type": "code",
   "execution_count": null,
   "metadata": {},
   "outputs": [],
   "source": []
  }
 ],
 "metadata": {
  "kernelspec": {
   "display_name": "Python 3",
   "language": "python",
   "name": "python3"
  },
  "language_info": {
   "codemirror_mode": {
    "name": "ipython",
    "version": 3
   },
   "file_extension": ".py",
   "mimetype": "text/x-python",
   "name": "python",
   "nbconvert_exporter": "python",
   "pygments_lexer": "ipython3",
   "version": "3.8.5"
  }
 },
 "nbformat": 4,
 "nbformat_minor": 5
}
